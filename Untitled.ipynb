{
 "cells": [
  {
   "cell_type": "code",
   "execution_count": 1,
   "id": "6c828da6-5fff-48d9-adca-a006f0930808",
   "metadata": {},
   "outputs": [],
   "source": [
    "from keras.utils import to_categorical\n",
    "from keras_preprocessing.image import load_img\n",
    "from keras.models import Sequential\n",
    "from keras.layers import Dense, Conv2D, Dropout, Flatten, MaxPooling2D\n",
    "import os\n",
    "import pandas as pd\n",
    "import numpy as np"
   ]
  },
  {
   "cell_type": "code",
   "execution_count": 2,
   "id": "dec3ab5e-2b6e-4926-9016-59ade8b2f102",
   "metadata": {},
   "outputs": [],
   "source": [
    "TRAIN_DIR = 'images/train'\n",
    "TEST_DIR = 'images/test'"
   ]
  },
  {
   "cell_type": "code",
   "execution_count": 3,
   "id": "1700a1cb-d0ff-4082-bb6b-fdb15dc3152a",
   "metadata": {},
   "outputs": [],
   "source": [
    "def createdataframe(dir):\n",
    "    image_paths = []\n",
    "    labels = []\n",
    "    for label in os.listdir(dir):\n",
    "        for imagename in os.listdir(os.path.join(dir,label)):\n",
    "            image_paths.append(os.path.join(dir,label,imagename))\n",
    "            labels.append(label)\n",
    "        print(label, \"completed\")\n",
    "    return image_paths,labels"
   ]
  },
  {
   "cell_type": "code",
   "execution_count": 4,
   "id": "11e5eccf-c563-40d7-ac2d-454525db447f",
   "metadata": {},
   "outputs": [
    {
     "name": "stdout",
     "output_type": "stream",
     "text": [
      "angry completed\n",
      "disgust completed\n",
      "fear completed\n",
      "happy completed\n",
      "neutral completed\n",
      "sad completed\n",
      "surprise completed\n"
     ]
    }
   ],
   "source": [
    "train = pd.DataFrame()\n",
    "train['image'], train['label'] = createdataframe(TRAIN_DIR)"
   ]
  },
  {
   "cell_type": "code",
   "execution_count": 5,
   "id": "8bdae37b-df40-4bc9-bf67-ad72aeba715e",
   "metadata": {},
   "outputs": [
    {
     "name": "stdout",
     "output_type": "stream",
     "text": [
      "                                image     label\n",
      "0            images/train\\angry\\0.jpg     angry\n",
      "1            images/train\\angry\\1.jpg     angry\n",
      "2           images/train\\angry\\10.jpg     angry\n",
      "3        images/train\\angry\\10002.jpg     angry\n",
      "4        images/train\\angry\\10016.jpg     angry\n",
      "...                               ...       ...\n",
      "28816  images/train\\surprise\\9969.jpg  surprise\n",
      "28817  images/train\\surprise\\9985.jpg  surprise\n",
      "28818  images/train\\surprise\\9990.jpg  surprise\n",
      "28819  images/train\\surprise\\9992.jpg  surprise\n",
      "28820  images/train\\surprise\\9996.jpg  surprise\n",
      "\n",
      "[28821 rows x 2 columns]\n"
     ]
    }
   ],
   "source": [
    "print(train)"
   ]
  },
  {
   "cell_type": "code",
   "execution_count": 6,
   "id": "aa87c1ad-b6bb-43d5-8005-9e35b039e319",
   "metadata": {},
   "outputs": [
    {
     "name": "stdout",
     "output_type": "stream",
     "text": [
      "angry completed\n",
      "disgust completed\n",
      "fear completed\n",
      "happy completed\n",
      "neutral completed\n",
      "sad completed\n",
      "surprise completed\n"
     ]
    }
   ],
   "source": [
    "test = pd.DataFrame()\n",
    "test['image'], test['label'] = createdataframe(TEST_DIR)"
   ]
  },
  {
   "cell_type": "code",
   "execution_count": 7,
   "id": "6158dea9-434c-4ef7-b4dc-e56e5b660b03",
   "metadata": {},
   "outputs": [
    {
     "name": "stdout",
     "output_type": "stream",
     "text": [
      "                              image     label\n",
      "0       images/test\\angry\\10052.jpg     angry\n",
      "1       images/test\\angry\\10065.jpg     angry\n",
      "2       images/test\\angry\\10079.jpg     angry\n",
      "3       images/test\\angry\\10095.jpg     angry\n",
      "4       images/test\\angry\\10121.jpg     angry\n",
      "...                             ...       ...\n",
      "7061  images/test\\surprise\\9806.jpg  surprise\n",
      "7062  images/test\\surprise\\9830.jpg  surprise\n",
      "7063  images/test\\surprise\\9853.jpg  surprise\n",
      "7064  images/test\\surprise\\9878.jpg  surprise\n",
      "7065   images/test\\surprise\\993.jpg  surprise\n",
      "\n",
      "[7066 rows x 2 columns]\n",
      "0         images/test\\angry\\10052.jpg\n",
      "1         images/test\\angry\\10065.jpg\n",
      "2         images/test\\angry\\10079.jpg\n",
      "3         images/test\\angry\\10095.jpg\n",
      "4         images/test\\angry\\10121.jpg\n",
      "                    ...              \n",
      "7061    images/test\\surprise\\9806.jpg\n",
      "7062    images/test\\surprise\\9830.jpg\n",
      "7063    images/test\\surprise\\9853.jpg\n",
      "7064    images/test\\surprise\\9878.jpg\n",
      "7065     images/test\\surprise\\993.jpg\n",
      "Name: image, Length: 7066, dtype: object\n"
     ]
    }
   ],
   "source": [
    "print(test)\n",
    "print(test['image'])"
   ]
  },
  {
   "cell_type": "code",
   "execution_count": 8,
   "id": "3f0091e7-503d-44d3-880e-4ffaec992a43",
   "metadata": {},
   "outputs": [],
   "source": [
    "from tqdm.notebook import tqdm"
   ]
  },
  {
   "cell_type": "code",
   "execution_count": 9,
   "id": "0b7c82ba-eed3-474a-8463-43806aed7e89",
   "metadata": {},
   "outputs": [],
   "source": [
    "def extract_features(images):\n",
    "    features = []\n",
    "    for image in tqdm(images):\n",
    "        img = load_img(image,grayscale = True )\n",
    "        img = np.array(img)\n",
    "        features.append(img)\n",
    "    features = np.array(features)\n",
    "    features = features.reshape(len(features),48,48,1)\n",
    "    return features"
   ]
  },
  {
   "cell_type": "code",
   "execution_count": 11,
   "id": "52d099e4-ba28-4969-bbb9-d68805ed42b3",
   "metadata": {},
   "outputs": [
    {
     "data": {
      "application/vnd.jupyter.widget-view+json": {
       "model_id": "d4ad9a28d8504f70bc0fc59077d4d1fb",
       "version_major": 2,
       "version_minor": 0
      },
      "text/plain": [
       "  0%|          | 0/28821 [00:00<?, ?it/s]"
      ]
     },
     "metadata": {},
     "output_type": "display_data"
    },
    {
     "name": "stderr",
     "output_type": "stream",
     "text": [
      "C:\\Users\\admin\\AppData\\Roaming\\Python\\Python311\\site-packages\\keras_preprocessing\\image\\utils.py:107: UserWarning: grayscale is deprecated. Please use color_mode = \"grayscale\"\n",
      "  warnings.warn('grayscale is deprecated. Please use '\n"
     ]
    }
   ],
   "source": [
    "train_features = extract_features(train['image']) "
   ]
  },
  {
   "cell_type": "code",
   "execution_count": 12,
   "id": "31b7edbc-1b06-4836-a67d-587ac10a704f",
   "metadata": {},
   "outputs": [
    {
     "data": {
      "application/vnd.jupyter.widget-view+json": {
       "model_id": "153dc5d1ece14ecb913fee3f1258d9fd",
       "version_major": 2,
       "version_minor": 0
      },
      "text/plain": [
       "  0%|          | 0/7066 [00:00<?, ?it/s]"
      ]
     },
     "metadata": {},
     "output_type": "display_data"
    }
   ],
   "source": [
    "test_features = extract_features(test['image'])"
   ]
  },
  {
   "cell_type": "code",
   "execution_count": 13,
   "id": "1320ff7d-e5d8-4911-86b7-12588cad7ef7",
   "metadata": {},
   "outputs": [],
   "source": [
    "x_train = train_features/255.0\n",
    "x_test = test_features/255.0"
   ]
  },
  {
   "cell_type": "code",
   "execution_count": 14,
   "id": "48aff851-2dc3-4c3b-8f2d-78e82e203c35",
   "metadata": {},
   "outputs": [],
   "source": [
    "from sklearn.preprocessing import LabelEncoder"
   ]
  },
  {
   "cell_type": "code",
   "execution_count": 15,
   "id": "3de73e97-730c-4969-99f8-40962c6980bb",
   "metadata": {},
   "outputs": [
    {
     "data": {
      "text/html": [
       "<style>#sk-container-id-1 {color: black;}#sk-container-id-1 pre{padding: 0;}#sk-container-id-1 div.sk-toggleable {background-color: white;}#sk-container-id-1 label.sk-toggleable__label {cursor: pointer;display: block;width: 100%;margin-bottom: 0;padding: 0.3em;box-sizing: border-box;text-align: center;}#sk-container-id-1 label.sk-toggleable__label-arrow:before {content: \"▸\";float: left;margin-right: 0.25em;color: #696969;}#sk-container-id-1 label.sk-toggleable__label-arrow:hover:before {color: black;}#sk-container-id-1 div.sk-estimator:hover label.sk-toggleable__label-arrow:before {color: black;}#sk-container-id-1 div.sk-toggleable__content {max-height: 0;max-width: 0;overflow: hidden;text-align: left;background-color: #f0f8ff;}#sk-container-id-1 div.sk-toggleable__content pre {margin: 0.2em;color: black;border-radius: 0.25em;background-color: #f0f8ff;}#sk-container-id-1 input.sk-toggleable__control:checked~div.sk-toggleable__content {max-height: 200px;max-width: 100%;overflow: auto;}#sk-container-id-1 input.sk-toggleable__control:checked~label.sk-toggleable__label-arrow:before {content: \"▾\";}#sk-container-id-1 div.sk-estimator input.sk-toggleable__control:checked~label.sk-toggleable__label {background-color: #d4ebff;}#sk-container-id-1 div.sk-label input.sk-toggleable__control:checked~label.sk-toggleable__label {background-color: #d4ebff;}#sk-container-id-1 input.sk-hidden--visually {border: 0;clip: rect(1px 1px 1px 1px);clip: rect(1px, 1px, 1px, 1px);height: 1px;margin: -1px;overflow: hidden;padding: 0;position: absolute;width: 1px;}#sk-container-id-1 div.sk-estimator {font-family: monospace;background-color: #f0f8ff;border: 1px dotted black;border-radius: 0.25em;box-sizing: border-box;margin-bottom: 0.5em;}#sk-container-id-1 div.sk-estimator:hover {background-color: #d4ebff;}#sk-container-id-1 div.sk-parallel-item::after {content: \"\";width: 100%;border-bottom: 1px solid gray;flex-grow: 1;}#sk-container-id-1 div.sk-label:hover label.sk-toggleable__label {background-color: #d4ebff;}#sk-container-id-1 div.sk-serial::before {content: \"\";position: absolute;border-left: 1px solid gray;box-sizing: border-box;top: 0;bottom: 0;left: 50%;z-index: 0;}#sk-container-id-1 div.sk-serial {display: flex;flex-direction: column;align-items: center;background-color: white;padding-right: 0.2em;padding-left: 0.2em;position: relative;}#sk-container-id-1 div.sk-item {position: relative;z-index: 1;}#sk-container-id-1 div.sk-parallel {display: flex;align-items: stretch;justify-content: center;background-color: white;position: relative;}#sk-container-id-1 div.sk-item::before, #sk-container-id-1 div.sk-parallel-item::before {content: \"\";position: absolute;border-left: 1px solid gray;box-sizing: border-box;top: 0;bottom: 0;left: 50%;z-index: -1;}#sk-container-id-1 div.sk-parallel-item {display: flex;flex-direction: column;z-index: 1;position: relative;background-color: white;}#sk-container-id-1 div.sk-parallel-item:first-child::after {align-self: flex-end;width: 50%;}#sk-container-id-1 div.sk-parallel-item:last-child::after {align-self: flex-start;width: 50%;}#sk-container-id-1 div.sk-parallel-item:only-child::after {width: 0;}#sk-container-id-1 div.sk-dashed-wrapped {border: 1px dashed gray;margin: 0 0.4em 0.5em 0.4em;box-sizing: border-box;padding-bottom: 0.4em;background-color: white;}#sk-container-id-1 div.sk-label label {font-family: monospace;font-weight: bold;display: inline-block;line-height: 1.2em;}#sk-container-id-1 div.sk-label-container {text-align: center;}#sk-container-id-1 div.sk-container {/* jupyter's `normalize.less` sets `[hidden] { display: none; }` but bootstrap.min.css set `[hidden] { display: none !important; }` so we also need the `!important` here to be able to override the default hidden behavior on the sphinx rendered scikit-learn.org. See: https://github.com/scikit-learn/scikit-learn/issues/21755 */display: inline-block !important;position: relative;}#sk-container-id-1 div.sk-text-repr-fallback {display: none;}</style><div id=\"sk-container-id-1\" class=\"sk-top-container\"><div class=\"sk-text-repr-fallback\"><pre>LabelEncoder()</pre><b>In a Jupyter environment, please rerun this cell to show the HTML representation or trust the notebook. <br />On GitHub, the HTML representation is unable to render, please try loading this page with nbviewer.org.</b></div><div class=\"sk-container\" hidden><div class=\"sk-item\"><div class=\"sk-estimator sk-toggleable\"><input class=\"sk-toggleable__control sk-hidden--visually\" id=\"sk-estimator-id-1\" type=\"checkbox\" checked><label for=\"sk-estimator-id-1\" class=\"sk-toggleable__label sk-toggleable__label-arrow\">LabelEncoder</label><div class=\"sk-toggleable__content\"><pre>LabelEncoder()</pre></div></div></div></div></div>"
      ],
      "text/plain": [
       "LabelEncoder()"
      ]
     },
     "execution_count": 15,
     "metadata": {},
     "output_type": "execute_result"
    }
   ],
   "source": [
    "le = LabelEncoder()\n",
    "le.fit(train['label'])"
   ]
  },
  {
   "cell_type": "code",
   "execution_count": 16,
   "id": "49f7837f-27b6-45a8-ba8c-8652f6b55ace",
   "metadata": {},
   "outputs": [],
   "source": [
    "y_train = le.transform(train['label'])\n",
    "y_test = le.transform(test['label'])"
   ]
  },
  {
   "cell_type": "code",
   "execution_count": 17,
   "id": "dac225ed-351e-436f-a27d-4a322cb32b9e",
   "metadata": {},
   "outputs": [],
   "source": [
    "y_train = to_categorical(y_train,num_classes = 7)\n",
    "y_test = to_categorical(y_test,num_classes = 7)"
   ]
  },
  {
   "cell_type": "code",
   "execution_count": 18,
   "id": "794a4742-ad91-497f-af63-263f4a57bbbf",
   "metadata": {},
   "outputs": [],
   "source": [
    "model = Sequential()\n",
    "# convolutional layers\n",
    "model.add(Conv2D(128, kernel_size=(3,3), activation='relu', input_shape=(48,48,1)))\n",
    "model.add(MaxPooling2D(pool_size=(2,2)))\n",
    "model.add(Dropout(0.4))\n",
    "\n",
    "model.add(Conv2D(256, kernel_size=(3,3), activation='relu'))\n",
    "model.add(MaxPooling2D(pool_size=(2,2)))\n",
    "model.add(Dropout(0.4))\n",
    "\n",
    "model.add(Conv2D(512, kernel_size=(3,3), activation='relu'))\n",
    "model.add(MaxPooling2D(pool_size=(2,2)))\n",
    "model.add(Dropout(0.4))\n",
    "\n",
    "model.add(Conv2D(512, kernel_size=(3,3), activation='relu'))\n",
    "model.add(MaxPooling2D(pool_size=(2,2)))\n",
    "model.add(Dropout(0.4))\n",
    "\n",
    "model.add(Flatten())\n",
    "# fully connected layers\n",
    "model.add(Dense(512, activation='relu'))\n",
    "model.add(Dropout(0.4))\n",
    "model.add(Dense(256, activation='relu'))\n",
    "model.add(Dropout(0.3))\n",
    "# output layer\n",
    "model.add(Dense(7, activation='softmax'))"
   ]
  },
  {
   "cell_type": "code",
   "execution_count": 19,
   "id": "96c31171-8edb-4130-a609-208137b65c95",
   "metadata": {},
   "outputs": [],
   "source": [
    "model.compile(optimizer = 'adam', loss = 'categorical_crossentropy', metrics = 'accuracy' )"
   ]
  },
  {
   "cell_type": "code",
   "execution_count": 20,
   "id": "3b5d49b3-bf0f-44e1-90d8-d77c6f8c3fcf",
   "metadata": {},
   "outputs": [
    {
     "name": "stdout",
     "output_type": "stream",
     "text": [
      "Epoch 1/100\n",
      "226/226 [==============================] - 915s 4s/step - loss: 1.8207 - accuracy: 0.2453 - val_loss: 1.7970 - val_accuracy: 0.2590\n",
      "Epoch 2/100\n",
      "226/226 [==============================] - 735s 3s/step - loss: 1.7730 - accuracy: 0.2637 - val_loss: 1.6892 - val_accuracy: 0.3121\n",
      "Epoch 3/100\n",
      "226/226 [==============================] - 737s 3s/step - loss: 1.6549 - accuracy: 0.3332 - val_loss: 1.5016 - val_accuracy: 0.4091\n",
      "Epoch 4/100\n",
      "226/226 [==============================] - 719s 3s/step - loss: 1.5186 - accuracy: 0.4053 - val_loss: 1.3987 - val_accuracy: 0.4618\n",
      "Epoch 5/100\n",
      "226/226 [==============================] - 873s 4s/step - loss: 1.4551 - accuracy: 0.4360 - val_loss: 1.3341 - val_accuracy: 0.4897\n",
      "Epoch 6/100\n",
      "226/226 [==============================] - 768s 3s/step - loss: 1.4001 - accuracy: 0.4595 - val_loss: 1.2755 - val_accuracy: 0.5113\n",
      "Epoch 7/100\n",
      "226/226 [==============================] - 721s 3s/step - loss: 1.3674 - accuracy: 0.4758 - val_loss: 1.2490 - val_accuracy: 0.5225\n",
      "Epoch 8/100\n",
      "226/226 [==============================] - 749s 3s/step - loss: 1.3310 - accuracy: 0.4884 - val_loss: 1.2274 - val_accuracy: 0.5344\n",
      "Epoch 9/100\n",
      "226/226 [==============================] - 1120s 5s/step - loss: 1.2997 - accuracy: 0.5015 - val_loss: 1.2066 - val_accuracy: 0.5395\n",
      "Epoch 10/100\n",
      "226/226 [==============================] - 539s 2s/step - loss: 1.2783 - accuracy: 0.5103 - val_loss: 1.1946 - val_accuracy: 0.5453\n",
      "Epoch 11/100\n",
      "226/226 [==============================] - 837s 4s/step - loss: 1.2624 - accuracy: 0.5177 - val_loss: 1.1630 - val_accuracy: 0.5596\n",
      "Epoch 12/100\n",
      "226/226 [==============================] - 543s 2s/step - loss: 1.2450 - accuracy: 0.5250 - val_loss: 1.1479 - val_accuracy: 0.5669\n",
      "Epoch 13/100\n",
      "226/226 [==============================] - 810s 4s/step - loss: 1.2279 - accuracy: 0.5324 - val_loss: 1.1477 - val_accuracy: 0.5626\n",
      "Epoch 14/100\n",
      "226/226 [==============================] - 854s 4s/step - loss: 1.2045 - accuracy: 0.5409 - val_loss: 1.1346 - val_accuracy: 0.5665\n",
      "Epoch 15/100\n",
      "226/226 [==============================] - 679s 3s/step - loss: 1.1978 - accuracy: 0.5438 - val_loss: 1.1199 - val_accuracy: 0.5733\n",
      "Epoch 16/100\n",
      "226/226 [==============================] - 785s 3s/step - loss: 1.1845 - accuracy: 0.5490 - val_loss: 1.1199 - val_accuracy: 0.5826\n",
      "Epoch 17/100\n",
      "226/226 [==============================] - 550s 2s/step - loss: 1.1746 - accuracy: 0.5499 - val_loss: 1.1101 - val_accuracy: 0.5802\n",
      "Epoch 18/100\n",
      "226/226 [==============================] - 610s 3s/step - loss: 1.1640 - accuracy: 0.5605 - val_loss: 1.1174 - val_accuracy: 0.5785\n",
      "Epoch 19/100\n",
      "226/226 [==============================] - 842s 4s/step - loss: 1.1479 - accuracy: 0.5638 - val_loss: 1.1012 - val_accuracy: 0.5838\n",
      "Epoch 20/100\n",
      "226/226 [==============================] - 667s 3s/step - loss: 1.1360 - accuracy: 0.5664 - val_loss: 1.1112 - val_accuracy: 0.5766\n",
      "Epoch 21/100\n",
      "226/226 [==============================] - 667s 3s/step - loss: 1.1286 - accuracy: 0.5730 - val_loss: 1.0971 - val_accuracy: 0.5875\n",
      "Epoch 22/100\n",
      "226/226 [==============================] - 679s 3s/step - loss: 1.1236 - accuracy: 0.5797 - val_loss: 1.0859 - val_accuracy: 0.5883\n",
      "Epoch 23/100\n",
      "226/226 [==============================] - 690s 3s/step - loss: 1.1056 - accuracy: 0.5812 - val_loss: 1.1003 - val_accuracy: 0.5862\n",
      "Epoch 24/100\n",
      "226/226 [==============================] - 753s 3s/step - loss: 1.1103 - accuracy: 0.5778 - val_loss: 1.0717 - val_accuracy: 0.5935\n",
      "Epoch 25/100\n",
      "226/226 [==============================] - 832s 4s/step - loss: 1.0978 - accuracy: 0.5864 - val_loss: 1.0809 - val_accuracy: 0.5877\n",
      "Epoch 26/100\n",
      "226/226 [==============================] - 842s 4s/step - loss: 1.0841 - accuracy: 0.5888 - val_loss: 1.0740 - val_accuracy: 0.5943\n",
      "Epoch 27/100\n",
      "226/226 [==============================] - 790s 3s/step - loss: 1.0788 - accuracy: 0.5913 - val_loss: 1.0726 - val_accuracy: 0.5944\n",
      "Epoch 28/100\n",
      "226/226 [==============================] - 745s 3s/step - loss: 1.0751 - accuracy: 0.5916 - val_loss: 1.0710 - val_accuracy: 0.5947\n",
      "Epoch 29/100\n",
      "226/226 [==============================] - 643s 3s/step - loss: 1.0654 - accuracy: 0.5977 - val_loss: 1.0773 - val_accuracy: 0.5934\n",
      "Epoch 30/100\n",
      "226/226 [==============================] - 11383s 51s/step - loss: 1.0515 - accuracy: 0.6026 - val_loss: 1.0643 - val_accuracy: 0.6027\n",
      "Epoch 31/100\n",
      "226/226 [==============================] - 566s 3s/step - loss: 1.0510 - accuracy: 0.6018 - val_loss: 1.0607 - val_accuracy: 0.6010\n",
      "Epoch 32/100\n",
      "226/226 [==============================] - 28432s 78s/step - loss: 1.0463 - accuracy: 0.6041 - val_loss: 1.0551 - val_accuracy: 0.6052\n",
      "Epoch 33/100\n",
      "226/226 [==============================] - 695s 3s/step - loss: 1.0321 - accuracy: 0.6113 - val_loss: 1.0541 - val_accuracy: 0.6112\n",
      "Epoch 34/100\n",
      "226/226 [==============================] - 582s 3s/step - loss: 1.0271 - accuracy: 0.6146 - val_loss: 1.0608 - val_accuracy: 0.6027\n",
      "Epoch 35/100\n",
      "226/226 [==============================] - 899s 4s/step - loss: 1.0189 - accuracy: 0.6173 - val_loss: 1.0822 - val_accuracy: 0.5995\n",
      "Epoch 36/100\n",
      "226/226 [==============================] - 1080s 5s/step - loss: 1.0181 - accuracy: 0.6172 - val_loss: 1.0373 - val_accuracy: 0.6127\n",
      "Epoch 37/100\n",
      "226/226 [==============================] - 745s 3s/step - loss: 1.0040 - accuracy: 0.6212 - val_loss: 1.0412 - val_accuracy: 0.6095\n",
      "Epoch 38/100\n",
      "226/226 [==============================] - 557s 2s/step - loss: 1.0043 - accuracy: 0.6237 - val_loss: 1.0471 - val_accuracy: 0.6094\n",
      "Epoch 39/100\n",
      "226/226 [==============================] - 918s 4s/step - loss: 0.9976 - accuracy: 0.6220 - val_loss: 1.0396 - val_accuracy: 0.6145\n",
      "Epoch 40/100\n",
      "226/226 [==============================] - 540s 2s/step - loss: 0.9872 - accuracy: 0.6291 - val_loss: 1.0452 - val_accuracy: 0.6114\n",
      "Epoch 41/100\n",
      "226/226 [==============================] - 1272s 6s/step - loss: 0.9901 - accuracy: 0.6268 - val_loss: 1.0361 - val_accuracy: 0.6124\n",
      "Epoch 42/100\n",
      "226/226 [==============================] - 554s 2s/step - loss: 0.9775 - accuracy: 0.6370 - val_loss: 1.0458 - val_accuracy: 0.6070\n",
      "Epoch 43/100\n",
      "226/226 [==============================] - 566s 3s/step - loss: 0.9886 - accuracy: 0.6299 - val_loss: 1.0343 - val_accuracy: 0.6138\n",
      "Epoch 44/100\n",
      "226/226 [==============================] - 568s 3s/step - loss: 0.9709 - accuracy: 0.6377 - val_loss: 1.0369 - val_accuracy: 0.6210\n",
      "Epoch 45/100\n",
      "226/226 [==============================] - 563s 2s/step - loss: 0.9605 - accuracy: 0.6397 - val_loss: 1.0281 - val_accuracy: 0.6214\n",
      "Epoch 46/100\n",
      "226/226 [==============================] - 561s 2s/step - loss: 0.9482 - accuracy: 0.6426 - val_loss: 1.0305 - val_accuracy: 0.6177\n",
      "Epoch 47/100\n",
      "226/226 [==============================] - 551s 2s/step - loss: 0.9477 - accuracy: 0.6451 - val_loss: 1.0456 - val_accuracy: 0.6156\n",
      "Epoch 48/100\n",
      "226/226 [==============================] - 2265s 10s/step - loss: 0.9458 - accuracy: 0.6447 - val_loss: 1.0278 - val_accuracy: 0.6211\n",
      "Epoch 49/100\n",
      "226/226 [==============================] - 543s 2s/step - loss: 0.9382 - accuracy: 0.6503 - val_loss: 1.0365 - val_accuracy: 0.6119\n",
      "Epoch 50/100\n",
      "226/226 [==============================] - 554s 2s/step - loss: 0.9338 - accuracy: 0.6521 - val_loss: 1.0294 - val_accuracy: 0.6175\n",
      "Epoch 51/100\n",
      "226/226 [==============================] - 558s 2s/step - loss: 0.9232 - accuracy: 0.6555 - val_loss: 1.0247 - val_accuracy: 0.6217\n",
      "Epoch 52/100\n",
      "226/226 [==============================] - 564s 2s/step - loss: 0.9217 - accuracy: 0.6539 - val_loss: 1.0367 - val_accuracy: 0.6160\n",
      "Epoch 53/100\n",
      "226/226 [==============================] - 563s 2s/step - loss: 0.9178 - accuracy: 0.6591 - val_loss: 1.0252 - val_accuracy: 0.6233\n",
      "Epoch 54/100\n",
      "226/226 [==============================] - 562s 2s/step - loss: 0.9141 - accuracy: 0.6571 - val_loss: 1.0266 - val_accuracy: 0.6226\n",
      "Epoch 55/100\n",
      "226/226 [==============================] - 559s 2s/step - loss: 0.9097 - accuracy: 0.6610 - val_loss: 1.0315 - val_accuracy: 0.6214\n",
      "Epoch 56/100\n",
      "226/226 [==============================] - 562s 2s/step - loss: 0.9014 - accuracy: 0.6625 - val_loss: 1.0244 - val_accuracy: 0.6244\n",
      "Epoch 57/100\n",
      "226/226 [==============================] - 559s 2s/step - loss: 0.8974 - accuracy: 0.6659 - val_loss: 1.0278 - val_accuracy: 0.6247\n",
      "Epoch 58/100\n",
      "226/226 [==============================] - 564s 2s/step - loss: 0.8950 - accuracy: 0.6648 - val_loss: 1.0366 - val_accuracy: 0.6200\n",
      "Epoch 59/100\n",
      "226/226 [==============================] - 558s 2s/step - loss: 0.8913 - accuracy: 0.6661 - val_loss: 1.0334 - val_accuracy: 0.6226\n",
      "Epoch 60/100\n",
      "226/226 [==============================] - 549s 2s/step - loss: 0.8784 - accuracy: 0.6744 - val_loss: 1.0281 - val_accuracy: 0.6251\n",
      "Epoch 61/100\n",
      "226/226 [==============================] - 559s 2s/step - loss: 0.8664 - accuracy: 0.6751 - val_loss: 1.0286 - val_accuracy: 0.6254\n",
      "Epoch 62/100\n",
      "226/226 [==============================] - 552s 2s/step - loss: 0.8755 - accuracy: 0.6769 - val_loss: 1.0330 - val_accuracy: 0.6226\n",
      "Epoch 63/100\n",
      "226/226 [==============================] - 733s 3s/step - loss: 0.8742 - accuracy: 0.6776 - val_loss: 1.0231 - val_accuracy: 0.6234\n",
      "Epoch 64/100\n",
      "226/226 [==============================] - 749s 3s/step - loss: 0.8659 - accuracy: 0.6761 - val_loss: 1.0227 - val_accuracy: 0.6258\n",
      "Epoch 65/100\n",
      "226/226 [==============================] - 787s 3s/step - loss: 0.8512 - accuracy: 0.6833 - val_loss: 1.0296 - val_accuracy: 0.6240\n",
      "Epoch 66/100\n",
      "226/226 [==============================] - 704s 3s/step - loss: 0.8588 - accuracy: 0.6803 - val_loss: 1.0172 - val_accuracy: 0.6262\n",
      "Epoch 67/100\n",
      "226/226 [==============================] - 665s 3s/step - loss: 0.8470 - accuracy: 0.6859 - val_loss: 1.0319 - val_accuracy: 0.6228\n",
      "Epoch 68/100\n",
      "226/226 [==============================] - 608s 3s/step - loss: 0.8406 - accuracy: 0.6870 - val_loss: 1.0266 - val_accuracy: 0.6247\n",
      "Epoch 69/100\n",
      "226/226 [==============================] - 704s 3s/step - loss: 0.8366 - accuracy: 0.6886 - val_loss: 1.0338 - val_accuracy: 0.6227\n",
      "Epoch 70/100\n",
      "226/226 [==============================] - 626s 3s/step - loss: 0.8387 - accuracy: 0.6886 - val_loss: 1.0209 - val_accuracy: 0.6311\n",
      "Epoch 71/100\n",
      "226/226 [==============================] - 605s 3s/step - loss: 0.8284 - accuracy: 0.6948 - val_loss: 1.0231 - val_accuracy: 0.6257\n",
      "Epoch 72/100\n",
      "226/226 [==============================] - 603s 3s/step - loss: 0.8301 - accuracy: 0.6884 - val_loss: 1.0217 - val_accuracy: 0.6204\n",
      "Epoch 73/100\n",
      "226/226 [==============================] - 610s 3s/step - loss: 0.8300 - accuracy: 0.6933 - val_loss: 1.0336 - val_accuracy: 0.6219\n",
      "Epoch 74/100\n",
      "226/226 [==============================] - 653s 3s/step - loss: 0.8168 - accuracy: 0.6973 - val_loss: 1.0409 - val_accuracy: 0.6250\n",
      "Epoch 75/100\n",
      "226/226 [==============================] - 832s 4s/step - loss: 0.8170 - accuracy: 0.6979 - val_loss: 1.0288 - val_accuracy: 0.6245\n",
      "Epoch 76/100\n",
      "226/226 [==============================] - 791s 3s/step - loss: 0.8179 - accuracy: 0.7000 - val_loss: 1.0450 - val_accuracy: 0.6260\n",
      "Epoch 77/100\n",
      "226/226 [==============================] - 706s 3s/step - loss: 0.8096 - accuracy: 0.6998 - val_loss: 1.0262 - val_accuracy: 0.6298\n",
      "Epoch 78/100\n",
      "226/226 [==============================] - 720s 3s/step - loss: 0.7960 - accuracy: 0.7055 - val_loss: 1.0432 - val_accuracy: 0.6244\n",
      "Epoch 79/100\n",
      "226/226 [==============================] - 634s 3s/step - loss: 0.8043 - accuracy: 0.7051 - val_loss: 1.0316 - val_accuracy: 0.6252\n",
      "Epoch 80/100\n",
      "226/226 [==============================] - 602s 3s/step - loss: 0.7893 - accuracy: 0.7056 - val_loss: 1.0305 - val_accuracy: 0.6298\n",
      "Epoch 81/100\n",
      "226/226 [==============================] - 624s 3s/step - loss: 0.7945 - accuracy: 0.7099 - val_loss: 1.0353 - val_accuracy: 0.6288\n",
      "Epoch 82/100\n",
      "226/226 [==============================] - 624s 3s/step - loss: 0.7902 - accuracy: 0.7085 - val_loss: 1.0451 - val_accuracy: 0.6295\n",
      "Epoch 83/100\n",
      "226/226 [==============================] - 566s 3s/step - loss: 0.7768 - accuracy: 0.7129 - val_loss: 1.0292 - val_accuracy: 0.6260\n",
      "Epoch 84/100\n",
      "226/226 [==============================] - 775s 3s/step - loss: 0.7828 - accuracy: 0.7083 - val_loss: 1.0346 - val_accuracy: 0.6255\n",
      "Epoch 85/100\n",
      "226/226 [==============================] - 652s 3s/step - loss: 0.7694 - accuracy: 0.7184 - val_loss: 1.0340 - val_accuracy: 0.6289\n",
      "Epoch 86/100\n",
      "226/226 [==============================] - 680s 3s/step - loss: 0.7739 - accuracy: 0.7198 - val_loss: 1.0360 - val_accuracy: 0.6224\n",
      "Epoch 87/100\n",
      "226/226 [==============================] - 671s 3s/step - loss: 0.7653 - accuracy: 0.7228 - val_loss: 1.0206 - val_accuracy: 0.6278\n",
      "Epoch 88/100\n",
      "226/226 [==============================] - 731s 3s/step - loss: 0.7620 - accuracy: 0.7220 - val_loss: 1.0442 - val_accuracy: 0.6264\n",
      "Epoch 89/100\n",
      "226/226 [==============================] - 787s 3s/step - loss: 0.7535 - accuracy: 0.7266 - val_loss: 1.0289 - val_accuracy: 0.6298\n",
      "Epoch 90/100\n",
      "226/226 [==============================] - 724s 3s/step - loss: 0.7537 - accuracy: 0.7245 - val_loss: 1.0365 - val_accuracy: 0.6292\n",
      "Epoch 91/100\n",
      "226/226 [==============================] - 652s 3s/step - loss: 0.7509 - accuracy: 0.7261 - val_loss: 1.0307 - val_accuracy: 0.6316\n",
      "Epoch 92/100\n",
      "226/226 [==============================] - 607s 3s/step - loss: 0.7455 - accuracy: 0.7295 - val_loss: 1.0490 - val_accuracy: 0.6245\n",
      "Epoch 93/100\n",
      "226/226 [==============================] - 862s 4s/step - loss: 0.7400 - accuracy: 0.7319 - val_loss: 1.0481 - val_accuracy: 0.6238\n",
      "Epoch 94/100\n",
      "226/226 [==============================] - 753s 3s/step - loss: 0.7365 - accuracy: 0.7298 - val_loss: 1.0342 - val_accuracy: 0.6322\n",
      "Epoch 95/100\n",
      "226/226 [==============================] - 630s 3s/step - loss: 0.7386 - accuracy: 0.7321 - val_loss: 1.0531 - val_accuracy: 0.6274\n",
      "Epoch 96/100\n",
      "226/226 [==============================] - 669s 3s/step - loss: 0.7302 - accuracy: 0.7352 - val_loss: 1.0479 - val_accuracy: 0.6313\n",
      "Epoch 97/100\n",
      "226/226 [==============================] - 711s 3s/step - loss: 0.7355 - accuracy: 0.7318 - val_loss: 1.0418 - val_accuracy: 0.6306\n",
      "Epoch 98/100\n",
      "226/226 [==============================] - 784s 3s/step - loss: 0.7224 - accuracy: 0.7387 - val_loss: 1.0488 - val_accuracy: 0.6302\n",
      "Epoch 99/100\n",
      "226/226 [==============================] - 809s 4s/step - loss: 0.7263 - accuracy: 0.7357 - val_loss: 1.0555 - val_accuracy: 0.6303\n",
      "Epoch 100/100\n",
      "226/226 [==============================] - 634s 3s/step - loss: 0.7189 - accuracy: 0.7386 - val_loss: 1.0564 - val_accuracy: 0.6311\n"
     ]
    },
    {
     "data": {
      "text/plain": [
       "<keras.src.callbacks.History at 0x2595d0a8e90>"
      ]
     },
     "execution_count": 20,
     "metadata": {},
     "output_type": "execute_result"
    }
   ],
   "source": [
    "model.fit(x= x_train,y = y_train, batch_size = 128, epochs = 100, validation_data = (x_test,y_test)) "
   ]
  },
  {
   "cell_type": "code",
   "execution_count": 35,
   "id": "c2562785-b62c-42be-8b1d-df21c7a7fa39",
   "metadata": {},
   "outputs": [
    {
     "name": "stdout",
     "output_type": "stream",
     "text": [
      "WARNING:tensorflow:Compiled the loaded model, but the compiled metrics have yet to be built. `model.compile_metrics` will be empty until you train or evaluate the model.\n"
     ]
    },
    {
     "name": "stderr",
     "output_type": "stream",
     "text": [
      "C:\\Users\\admin\\AppData\\Roaming\\Python\\Python311\\site-packages\\keras\\src\\engine\\training.py:3000: UserWarning: You are saving your model as an HDF5 file via `model.save()`. This file format is considered legacy. We recommend using instead the native Keras format, e.g. `model.save('my_model.keras')`.\n",
      "  saving_api.save_model(\n"
     ]
    }
   ],
   "source": [
    "model_json = model.to_json()\n",
    "with open(\"innersight.json\",'w') as json_file:\n",
    "    json_file.write(model_json)\n",
    "model.save(\"innersight.h5\")"
   ]
  },
  {
   "cell_type": "code",
   "execution_count": 36,
   "id": "a25a480f-e240-4c28-a774-5c54994dc8b0",
   "metadata": {},
   "outputs": [],
   "source": [
    "from keras.models import model_from_json"
   ]
  },
  {
   "cell_type": "code",
   "execution_count": 23,
   "id": "01212a4c-c586-4da4-8731-ff401b053df2",
   "metadata": {},
   "outputs": [],
   "source": [
    "json_file = open(\"innersight.json\", \"r\")\n",
    "model_json = json_file.read()\n",
    "json_file.close()\n",
    "model = model_from_json(model_json)\n",
    "model.load_weights(\"innersight.h5\")"
   ]
  },
  {
   "cell_type": "code",
   "execution_count": 24,
   "id": "8ab42867-ed4d-4397-96d9-3b24d9464636",
   "metadata": {},
   "outputs": [],
   "source": [
    "label = ['angry','disgust','fear','happy','neutral','sad','surprise']"
   ]
  },
  {
   "cell_type": "code",
   "execution_count": 25,
   "id": "4f34208d-f181-4b5a-b347-bc11fb71029a",
   "metadata": {},
   "outputs": [],
   "source": [
    "def ef(image):\n",
    "    img = load_img(image,grayscale =  True )\n",
    "    feature = np.array(img)\n",
    "    feature = feature.reshape(1,48,48,1)\n",
    "    return feature/255.0"
   ]
  },
  {
   "cell_type": "code",
   "execution_count": 26,
   "id": "f9f1a6af-6ac5-423d-a4b6-cca31d0e86c3",
   "metadata": {},
   "outputs": [
    {
     "name": "stdout",
     "output_type": "stream",
     "text": [
      "original image is of sad\n"
     ]
    },
    {
     "name": "stderr",
     "output_type": "stream",
     "text": [
      "C:\\Users\\admin\\AppData\\Roaming\\Python\\Python311\\site-packages\\keras_preprocessing\\image\\utils.py:107: UserWarning: grayscale is deprecated. Please use color_mode = \"grayscale\"\n",
      "  warnings.warn('grayscale is deprecated. Please use '\n"
     ]
    },
    {
     "name": "stdout",
     "output_type": "stream",
     "text": [
      "1/1 [==============================] - 1s 793ms/step\n",
      "model prediction is  sad\n"
     ]
    }
   ],
   "source": [
    "image = 'images/train/sad/42.jpg'\n",
    "print(\"original image is of sad\")\n",
    "img = ef(image)\n",
    "pred = model.predict(img)\n",
    "pred_label = label[pred.argmax()]\n",
    "print(\"model prediction is \",pred_label)"
   ]
  },
  {
   "cell_type": "code",
   "execution_count": 27,
   "id": "4fc83ba9-3063-4876-a8d3-1d1d2cf23e7c",
   "metadata": {},
   "outputs": [
    {
     "name": "stdout",
     "output_type": "stream",
     "text": [
      "original image is of sad\n",
      "1/1 [==============================] - 0s 64ms/step\n",
      "model prediction is  sad\n"
     ]
    },
    {
     "ename": "NameError",
     "evalue": "name 'plt' is not defined",
     "output_type": "error",
     "traceback": [
      "\u001b[1;31m---------------------------------------------------------------------------\u001b[0m",
      "\u001b[1;31mNameError\u001b[0m                                 Traceback (most recent call last)",
      "Cell \u001b[1;32mIn[27], line 7\u001b[0m\n\u001b[0;32m      5\u001b[0m pred_label \u001b[38;5;241m=\u001b[39m label[pred\u001b[38;5;241m.\u001b[39margmax()]\n\u001b[0;32m      6\u001b[0m \u001b[38;5;28mprint\u001b[39m(\u001b[38;5;124m\"\u001b[39m\u001b[38;5;124mmodel prediction is \u001b[39m\u001b[38;5;124m\"\u001b[39m,pred_label)\n\u001b[1;32m----> 7\u001b[0m \u001b[43mplt\u001b[49m\u001b[38;5;241m.\u001b[39mimshow(img\u001b[38;5;241m.\u001b[39mreshape(\u001b[38;5;241m48\u001b[39m,\u001b[38;5;241m48\u001b[39m),cmap\u001b[38;5;241m=\u001b[39m\u001b[38;5;124m'\u001b[39m\u001b[38;5;124mgray\u001b[39m\u001b[38;5;124m'\u001b[39m)\n",
      "\u001b[1;31mNameError\u001b[0m: name 'plt' is not defined"
     ]
    }
   ],
   "source": [
    "image = 'images/train/sad/42.jpg'\n",
    "print(\"original image is of sad\")\n",
    "img = ef(image)\n",
    "pred = model.predict(img)\n",
    "pred_label = label[pred.argmax()]\n",
    "print(\"model prediction is \",pred_label)\n",
    "plt.imshow(img.reshape(48,48),cmap='gray')"
   ]
  },
  {
   "cell_type": "code",
   "execution_count": 30,
   "id": "ab8d799c-b8fb-43f2-a71d-e248e1c9b34d",
   "metadata": {},
   "outputs": [
    {
     "name": "stdout",
     "output_type": "stream",
     "text": [
      "Defaulting to user installation because normal site-packages is not writeable\n",
      "Collecting matplotlib\n",
      "  Downloading matplotlib-3.8.0-cp311-cp311-win_amd64.whl (7.6 MB)\n",
      "                                              0.0/7.6 MB ? eta -:--:--\n",
      "     --                                       0.4/7.6 MB 8.5 MB/s eta 0:00:01\n",
      "     ---                                      0.7/7.6 MB 7.8 MB/s eta 0:00:01\n",
      "     -----                                    1.1/7.6 MB 7.8 MB/s eta 0:00:01\n",
      "     -------                                  1.4/7.6 MB 7.7 MB/s eta 0:00:01\n",
      "     ---------                                1.9/7.6 MB 8.1 MB/s eta 0:00:01\n",
      "     ------------                             2.3/7.6 MB 8.3 MB/s eta 0:00:01\n",
      "     --------------                           2.8/7.6 MB 8.4 MB/s eta 0:00:01\n",
      "     ----------------                         3.2/7.6 MB 8.4 MB/s eta 0:00:01\n",
      "     -------------------                      3.7/7.6 MB 8.6 MB/s eta 0:00:01\n",
      "     ---------------------                    4.1/7.6 MB 8.8 MB/s eta 0:00:01\n",
      "     -----------------------                  4.5/7.6 MB 8.7 MB/s eta 0:00:01\n",
      "     -------------------------                4.9/7.6 MB 8.7 MB/s eta 0:00:01\n",
      "     ----------------------------             5.4/7.6 MB 8.8 MB/s eta 0:00:01\n",
      "     ------------------------------           5.8/7.6 MB 8.8 MB/s eta 0:00:01\n",
      "     --------------------------------         6.3/7.6 MB 8.9 MB/s eta 0:00:01\n",
      "     ----------------------------------       6.7/7.6 MB 8.9 MB/s eta 0:00:01\n",
      "     -------------------------------------    7.1/7.6 MB 8.9 MB/s eta 0:00:01\n",
      "     ---------------------------------------  7.5/7.6 MB 8.9 MB/s eta 0:00:01\n",
      "     ---------------------------------------- 7.6/7.6 MB 8.7 MB/s eta 0:00:00\n",
      "Collecting contourpy>=1.0.1 (from matplotlib)\n",
      "  Downloading contourpy-1.1.1-cp311-cp311-win_amd64.whl (480 kB)\n",
      "                                              0.0/480.5 kB ? eta -:--:--\n",
      "     -------------------------------       409.6/480.5 kB 12.9 MB/s eta 0:00:01\n",
      "     ------------------------------------- 480.5/480.5 kB 10.0 MB/s eta 0:00:00\n",
      "Collecting cycler>=0.10 (from matplotlib)\n",
      "  Downloading cycler-0.12.1-py3-none-any.whl (8.3 kB)\n",
      "Collecting fonttools>=4.22.0 (from matplotlib)\n",
      "  Downloading fonttools-4.43.1-cp311-cp311-win_amd64.whl (2.1 MB)\n",
      "                                              0.0/2.1 MB ? eta -:--:--\n",
      "     ------                                   0.4/2.1 MB 11.6 MB/s eta 0:00:01\n",
      "     --------------                           0.8/2.1 MB 9.6 MB/s eta 0:00:01\n",
      "     -----------------------                  1.2/2.1 MB 9.9 MB/s eta 0:00:01\n",
      "     --------------------------------         1.7/2.1 MB 10.1 MB/s eta 0:00:01\n",
      "     ---------------------------------------  2.1/2.1 MB 9.7 MB/s eta 0:00:01\n",
      "     ---------------------------------------- 2.1/2.1 MB 9.7 MB/s eta 0:00:00\n",
      "Collecting kiwisolver>=1.0.1 (from matplotlib)\n",
      "  Downloading kiwisolver-1.4.5-cp311-cp311-win_amd64.whl (56 kB)\n",
      "                                              0.0/56.1 kB ? eta -:--:--\n",
      "     ---------------------------------------- 56.1/56.1 kB ? eta 0:00:00\n",
      "Requirement already satisfied: numpy<2,>=1.21 in c:\\users\\admin\\appdata\\roaming\\python\\python311\\site-packages (from matplotlib) (1.24.3)\n",
      "Requirement already satisfied: packaging>=20.0 in c:\\users\\admin\\appdata\\roaming\\python\\python311\\site-packages (from matplotlib) (23.1)\n",
      "Requirement already satisfied: pillow>=6.2.0 in c:\\users\\admin\\appdata\\roaming\\python\\python311\\site-packages (from matplotlib) (10.0.1)\n",
      "Collecting pyparsing>=2.3.1 (from matplotlib)\n",
      "  Downloading pyparsing-3.1.1-py3-none-any.whl (103 kB)\n",
      "                                              0.0/103.1 kB ? eta -:--:--\n",
      "     -------------------------------------- 103.1/103.1 kB 5.8 MB/s eta 0:00:00\n",
      "Requirement already satisfied: python-dateutil>=2.7 in c:\\users\\admin\\appdata\\roaming\\python\\python311\\site-packages (from matplotlib) (2.8.2)\n",
      "Requirement already satisfied: six>=1.5 in c:\\users\\admin\\appdata\\roaming\\python\\python311\\site-packages (from python-dateutil>=2.7->matplotlib) (1.16.0)\n",
      "Installing collected packages: pyparsing, kiwisolver, fonttools, cycler, contourpy, matplotlib\n",
      "Successfully installed contourpy-1.1.1 cycler-0.12.1 fonttools-4.43.1 kiwisolver-1.4.5 matplotlib-3.8.0 pyparsing-3.1.1\n",
      "Note: you may need to restart the kernel to use updated packages.\n"
     ]
    },
    {
     "name": "stderr",
     "output_type": "stream",
     "text": [
      "  WARNING: The scripts fonttools.exe, pyftmerge.exe, pyftsubset.exe and ttx.exe are installed in 'C:\\Users\\admin\\AppData\\Roaming\\Python\\Python311\\Scripts' which is not on PATH.\n",
      "  Consider adding this directory to PATH or, if you prefer to suppress this warning, use --no-warn-script-location.\n",
      "\n",
      "[notice] A new release of pip is available: 23.1.2 -> 23.3.1\n",
      "[notice] To update, run: python.exe -m pip install --upgrade pip\n"
     ]
    }
   ],
   "source": [
    "pip install matplotlib"
   ]
  },
  {
   "cell_type": "code",
   "execution_count": 31,
   "id": "f753acbd-2b96-4f93-a7f9-0d3b9d53676c",
   "metadata": {},
   "outputs": [],
   "source": [
    "import matplotlib.pyplot as plt\n",
    "%matplotlib inline"
   ]
  },
  {
   "cell_type": "code",
   "execution_count": 32,
   "id": "78241dbc-018c-496a-a83d-64c6ca684285",
   "metadata": {},
   "outputs": [
    {
     "name": "stdout",
     "output_type": "stream",
     "text": [
      "original image is of fear\n",
      "1/1 [==============================] - 0s 52ms/step\n",
      "model prediction is  sad\n"
     ]
    },
    {
     "name": "stderr",
     "output_type": "stream",
     "text": [
      "C:\\Users\\admin\\AppData\\Roaming\\Python\\Python311\\site-packages\\keras_preprocessing\\image\\utils.py:107: UserWarning: grayscale is deprecated. Please use color_mode = \"grayscale\"\n",
      "  warnings.warn('grayscale is deprecated. Please use '\n"
     ]
    },
    {
     "data": {
      "text/plain": [
       "<matplotlib.image.AxesImage at 0x2595fd0ad10>"
      ]
     },
     "execution_count": 32,
     "metadata": {},
     "output_type": "execute_result"
    },
    {
     "data": {
      "image/png": "[encoded data removed]",
      "text/plain": [
       "<Figure size 640x480 with 1 Axes>"
      ]
     },
     "metadata": {},
     "output_type": "display_data"
    }
   ],
   "source": [
    "image = 'images/train/fear/2.jpg'\n",
    "print(\"original image is of fear\")\n",
    "img = ef(image)\n",
    "pred = model.predict(img)\n",
    "pred_label = label[pred.argmax()]\n",
    "print(\"model prediction is \",pred_label)\n",
    "plt.imshow(img.reshape(48,48),cmap='gray')"
   ]
  },
  {
   "cell_type": "code",
   "execution_count": 33,
   "id": "7ba41587-8ea1-45ea-a2fc-316012355897",
   "metadata": {},
   "outputs": [
    {
     "name": "stdout",
     "output_type": "stream",
     "text": [
      "original image is of disgust\n",
      "1/1 [==============================] - 0s 53ms/step\n",
      "model prediction is  disgust\n"
     ]
    },
    {
     "data": {
      "text/plain": [
       "<matplotlib.image.AxesImage at 0x2595fe60190>"
      ]
     },
     "execution_count": 33,
     "metadata": {},
     "output_type": "execute_result"
    },
    {
     "data": {
      "image/png": "[encoded data removed]",
      "text/plain": [
       "<Figure size 640x480 with 1 Axes>"
      ]
     },
     "metadata": {},
     "output_type": "display_data"
    }
   ],
   "source": [
    "image = 'images/train/disgust/299.jpg'\n",
    "print(\"original image is of disgust\")\n",
    "img = ef(image)\n",
    "pred = model.predict(img)\n",
    "pred_label = label[pred.argmax()]\n",
    "print(\"model prediction is \",pred_label)\n",
    "plt.imshow(img.reshape(48,48),cmap='gray')"
   ]
  },
  {
   "cell_type": "code",
   "execution_count": 34,
   "id": "fa06a355-7a35-41ce-9c08-dd89975bbc40",
   "metadata": {},
   "outputs": [
    {
     "name": "stdout",
     "output_type": "stream",
     "text": [
      "original image is of happy\n",
      "1/1 [==============================] - 0s 42ms/step\n",
      "model prediction is  happy\n"
     ]
    },
    {
     "data": {
      "text/plain": [
       "<matplotlib.image.AxesImage at 0x2595fecde10>"
      ]
     },
     "execution_count": 34,
     "metadata": {},
     "output_type": "execute_result"
    },
    {
     "data": {
      "image/png": "[encoded data removed]",
      "text/plain": [
       "<Figure size 640x480 with 1 Axes>"
      ]
     },
     "metadata": {},
     "output_type": "display_data"
    }
   ],
   "source": [
    "image = 'images/train/happy/7.jpg'\n",
    "print(\"original image is of happy\")\n",
    "img = ef(image)\n",
    "pred = model.predict(img)\n",
    "pred_label = label[pred.argmax()]\n",
    "print(\"model prediction is \",pred_label)\n",
    "plt.imshow(img.reshape(48,48),cmap='gray')"
   ]
  }
 ],
 "metadata": {
  "kernelspec": {
   "display_name": "Python 3 (ipykernel)",
   "language": "python",
   "name": "python3"
  },
  "language_info": {
   "codemirror_mode": {
    "name": "ipython",
    "version": 3
   },
   "file_extension": ".py",
   "mimetype": "text/x-python",
   "name": "python",
   "nbconvert_exporter": "python",
   "pygments_lexer": "ipython3",
   "version": "3.11.4"
  }
 },
 "nbformat": 4,
 "nbformat_minor": 5
}
